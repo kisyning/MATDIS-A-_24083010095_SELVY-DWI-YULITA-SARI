{
  "nbformat": 4,
  "nbformat_minor": 0,
  "metadata": {
    "colab": {
      "provenance": []
    },
    "kernelspec": {
      "name": "python3",
      "display_name": "Python 3"
    },
    "language_info": {
      "name": "python"
    }
  },
  "cells": [
    {
      "cell_type": "markdown",
      "source": [
        "![MATDIS T2.jpg](data:image/jpeg;base64,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)"
      ],
      "metadata": {
        "id": "ilFBmuj4h0Fx"
      }
    },
    {
      "cell_type": "code",
      "execution_count": null,
      "metadata": {
        "id": "4OWLTnr4hq_O"
      },
      "outputs": [],
      "source": [
        "# NAMA: SELVY DWI YULITA SARI\n",
        "# NPM: 24083010095"
      ]
    },
    {
      "cell_type": "code",
      "source": [
        "# SOAL NOMOR 1\n",
        "\n",
        "# Bukti induksi dengan Python\n",
        "# Soal: 1 + 3 + 5 + ... + (2n - 1) = n^2\n",
        "# Dengan syarat n >= 0\n",
        "\n",
        "# Fungsi untuk menghitung jumlah bilangan ganjil pertama sampai n\n",
        "def sum_odd(n):\n",
        "    return sum(2*i - 1 for i in range(1, n+1))\n",
        "\n",
        "# 1. Basis Induksi: n = 0\n",
        "n = 0\n",
        "lhs = sum_odd(n)   # ruas kiri\n",
        "rhs = n**2         # ruas kanan\n",
        "print(f\"Basis n=0: LHS={lhs}, RHS={rhs}, Valid={lhs == rhs}\")\n",
        "\n",
        "# 2. Hipotesis Induksi:\n",
        "sum_odd(k) == k^2\n",
        "\n",
        "# 3. Langkah Induksi: cek untuk n = k+1\n",
        "def check_induction(k):\n",
        "    # Hipotesis untuk n = k\n",
        "    lhs_k = sum_odd(k)\n",
        "    rhs_k = k**2\n",
        "    # Cek untuk n = k+1\n",
        "    lhs_k1 = sum_odd(k+1)\n",
        "    rhs_k1 = (k+1)**2\n",
        "\n",
        "    print(f\"\\nHipotesis untuk n={k}: LHS={lhs_k}, RHS={rhs_k}, Valid={lhs_k == rhs_k}\")\n",
        "    print(f\"Langkah induksi ke n={k+1}: LHS={lhs_k1}, RHS={rhs_k1}, Valid={lhs_k1 == rhs_k1}\")\n",
        "\n",
        "# Uji beberapa k\n",
        "for k in range(0, 6):  # mulai dari 0 karena syarat n >= 0\n",
        "    check_induction(k)\n"
      ],
      "metadata": {
        "colab": {
          "base_uri": "https://localhost:8080/"
        },
        "id": "7Wq7ku02k5ga",
        "outputId": "381c2a1c-cb54-47b7-ce42-ddf1c5512a6c"
      },
      "execution_count": null,
      "outputs": [
        {
          "output_type": "stream",
          "name": "stdout",
          "text": [
            "Basis n=0: LHS=0, RHS=0, Valid=True\n",
            "\n",
            "Hipotesis untuk n=0: LHS=0, RHS=0, Valid=True\n",
            "Langkah induksi ke n=1: LHS=1, RHS=1, Valid=True\n",
            "\n",
            "Hipotesis untuk n=1: LHS=1, RHS=1, Valid=True\n",
            "Langkah induksi ke n=2: LHS=4, RHS=4, Valid=True\n",
            "\n",
            "Hipotesis untuk n=2: LHS=4, RHS=4, Valid=True\n",
            "Langkah induksi ke n=3: LHS=9, RHS=9, Valid=True\n",
            "\n",
            "Hipotesis untuk n=3: LHS=9, RHS=9, Valid=True\n",
            "Langkah induksi ke n=4: LHS=16, RHS=16, Valid=True\n",
            "\n",
            "Hipotesis untuk n=4: LHS=16, RHS=16, Valid=True\n",
            "Langkah induksi ke n=5: LHS=25, RHS=25, Valid=True\n",
            "\n",
            "Hipotesis untuk n=5: LHS=25, RHS=25, Valid=True\n",
            "Langkah induksi ke n=6: LHS=36, RHS=36, Valid=True\n"
          ]
        }
      ]
    },
    {
      "cell_type": "markdown",
      "source": [
        "**Bukti Induksi** → dimulai dari n=0\n",
        "\n",
        "**Source Code** → menyesuaikan untuk range(0, 6) supaya memeriksa dari n=0\n",
        "\n",
        "**KESIMPULAN:**\n",
        "\n",
        "Berdasarkan hasil pembuktian dengan induksi matematika, persamaan 1+3+5+…+(2n-1) = n^2 terbukti benar untuk semua n>=0.\n",
        "\n",
        "Hal ini ditunjukkan dengan memeriksa basis induksi pada n=0 yang menghasilkan 0=0^2, kemudian dengan asumsi hipotesis induksi bahwa persamaan berlaku untuk n=k, dapat dibuktikan bahwa persamaan juga berlaku untuk n=k+1. Dengan demikian, sesuai prinsip induksi matematika, persamaan tersebut valid untuk semua bilangan bulan n yang lebih besar atau sama dengan 0."
      ],
      "metadata": {
        "id": "xOOC0TRdlULa"
      }
    },
    {
      "cell_type": "code",
      "source": [
        "# SOAL NOMOR 2\n",
        "\n",
        "# Bukti induksi dengan Python\n",
        "# Soal: 1 + 2 + 2^2 + 2^3 + ... + 2^n = 2^(n+1) - 1\n",
        "# Dengan syarat n >= 0\n",
        "\n",
        "def sum_powers_of_2(n):\n",
        "    \"\"\"Jumlahkan 2^0 + 2^1 + ... + 2^n. Asumsi: n >= 0 (integer).\"\"\"\n",
        "    assert isinstance(n, int) and n >= 0, \"n harus integer >= 0\"\n",
        "    return sum(2**i for i in range(0, n+1))\n",
        "\n",
        "# 1. Basis Induksi: n = 0\n",
        "n = 0\n",
        "lhs = sum_powers_of_2(n)      # ruas kiri\n",
        "rhs = 2**(n+1) - 1            # ruas kanan\n",
        "print(f\"Basis n=0: LHS={lhs}, RHS={rhs}, Valid={lhs == rhs}\")\n",
        "\n",
        "# 2. Hipotesis Induksi:\n",
        "sum_powers_of_2(k) == 2**(k+1) - 1\n",
        "\n",
        "# 3. Langkah Induksi: cek untuk n = k+1\n",
        "def check_induction(k):\n",
        "    assert isinstance(k, int) and k >= 0, \"k harus integer >= 0\"\n",
        "    lhs_k = sum_powers_of_2(k)\n",
        "    rhs_k = 2**(k+1) - 1\n",
        "    lhs_k1 = sum_powers_of_2(k+1)\n",
        "    rhs_k1 = 2**(k+2) - 1\n",
        "\n",
        "    print(f\"\\nHipotesis untuk n={k}: LHS={lhs_k}, RHS={rhs_k}, Valid={lhs_k == rhs_k}\")\n",
        "    print(f\"Langkah induksi ke n={k+1}: LHS={lhs_k1}, RHS={rhs_k1}, Valid={lhs_k1 == rhs_k1}\")\n"
      ],
      "metadata": {
        "colab": {
          "base_uri": "https://localhost:8080/"
        },
        "id": "3rLvx6oSmAUP",
        "outputId": "b8db3499-4b3f-4942-d7e7-fc4070f7b289"
      },
      "execution_count": null,
      "outputs": [
        {
          "output_type": "stream",
          "name": "stdout",
          "text": [
            "Basis n=0: LHS=1, RHS=1, Valid=True\n"
          ]
        }
      ]
    },
    {
      "cell_type": "markdown",
      "source": [
        "**KESIMPULAN:**\n",
        "\n",
        "Berdasarkan pembuktian dengan induksi matematika, persamaan 1+2+2^2+2^3+…+2^n=2^n+1 – 1 terbukti benar untum semua bilangan bulat n>=0. Hal ini ditunjukkan dengan memeriksa basis induksi pada n=0 yang menghasilkan 1=2-1, kemudian dengan asumsi hipotesis induksi bahwa persamaan berlaku untuk n=k, dapat dibuktikan bahwa persamaan juga berlaku untuk n=k+1. Dengan demikian, sesuai dengan prinsis induksi matematika, persamaan tersebut benar untuk setiap bilangan bulat n>=0."
      ],
      "metadata": {
        "id": "xozHvP0CpY4L"
      }
    }
  ]
}